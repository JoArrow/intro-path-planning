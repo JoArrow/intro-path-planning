{
 "cells": [
  {
   "cell_type": "markdown",
   "id": "0",
   "metadata": {},
   "source": [
    "# Projektaufgabe - Roundtrip-Path\n",
    "\n",
    "Implementieren Sie einen Roundtrip-Path Planer\n",
    "\n",
    "1. Gegeben sind  \n",
    "    1. Startposition  \n",
    "    2. Mehrere Endpositionen\n",
    "    3. Das Interface des Roundtrip-Path-Planners soll sich *nicht* von den anderen Bahnplanern unterscheiden.\n",
    "    4. Der zu verwendete Bahnplanungsalgorithmus soll wählbar sein und geeignet übertragen werden können.\n",
    "    5. Ausgabe: Ein kollisionsfreier Pfad, der von der gegebenen Startposition alle Endpositionen genau einmal erreicht und wieder zur Startposition zurückführt. Dabei soll der Gesamtpfad möglichst kurz sein. Koordinieren Sie den Pfad geeignet (z.B. farblich), so dass sich erkennen lässt, was Start-Punkt, kollisionsfreier Zwischenpfad und Zielpunkte sind. \\\n",
    "    *Anmerkung: NetworkX hat prinzipiell die Möglichkeit auf einem gegebenen Graph dieses Problem zu lösen, sogar auf verschiedene Arten und Weisen. Sie können dies nutzen*"
   ]
  },
  {
   "cell_type": "code",
   "execution_count": null,
   "id": "1",
   "metadata": {},
   "outputs": [],
   "source": [
    "import networkx as nx\n",
    "from IPPerfMonitor import IPPerfMonitor"
   ]
  },
  {
   "cell_type": "code",
   "execution_count": null,
   "id": "2",
   "metadata": {},
   "outputs": [],
   "source": [
    "import math\n",
    "from typing import List, Any\n",
    "import numpy as np\n",
    "from numpy.typing import NDArray\n",
    "\n",
    "\n",
    "class Roundtrip_path_planner:\n",
    "\n",
    "\n",
    "    def __init__(self, path_planner):\n",
    "        assert hasattr(path_planner, \"planPath\"), \"path_planner must have a method called 'planPath'\"\n",
    "        self.graph = nx.Graph() # graph to store all paths between start and goal nodes\n",
    "        self.tsg_graph = nx.Graph() # graph to store the Traveling Salesman Graph (TSG) containing only start and goal nodes. Each edge contains the actual path between the nodes and the respective summed weight.\n",
    "        self.path_planner = path_planner\n",
    "        self._collisionChecker = path_planner._collisionChecker if hasattr(path_planner, \"_collisionChecker\") else None\n",
    "\n",
    "\n",
    "    def _compute_path_length(self, graph: nx.Graph, path: List[Any]) -> float:\n",
    "        \"\"\"\n",
    "        Computes the total length of a path in the graph.\n",
    "        Args:\n",
    "            graph (nx.Graph): The graph containing the path.\n",
    "            path (List[Any]): A list of nodes representing the path.\n",
    "        returns:\n",
    "            float: The total distance of the path. Returns 0.0 if the path is empty or has less than 2 nodes.\n",
    "        \"\"\"\n",
    "        if not path or len(path) < 2:\n",
    "            return 0.0\n",
    "        total_distance = sum(\n",
    "            math.dist(graph.nodes[u]['pos'], graph.nodes[v]['pos'])\n",
    "            for u, v in zip(path[:-1], path[1:])\n",
    "        )\n",
    "        return total_distance\n",
    "\n",
    "\n",
    "    \n",
    "\n",
    "    @IPPerfMonitor\n",
    "    def planPath(self, startList: List[List[Any]], goalList: List[List[Any]], config) -> List[Any]:\n",
    "        \"\"\"\n",
    "        Plans a roundtrip path that visits all start and goal nodes.\n",
    "        Args:\n",
    "            startList (array): start position in planning space. E.g. [[1,2]]\n",
    "            goalList (array) : goal position in planning space. E.g. [[3,4]]\n",
    "            config (dict): dictionary with the needed information about the configuration options\n",
    "\n",
    "        Returns:\n",
    "            List[List[Any]]: A list representing the roundtrip path visiting all goals and returning to the start.\n",
    "        \"\"\"\n",
    "        start_goal_coordinates = startList + goalList # e.g. [[1,2], [3,4]]\n",
    "        # add start and target nodes to the graph\n",
    "        for i, coordinates in enumerate(start_goal_coordinates):\n",
    "            self.tsg_graph.add_node(i, pos=coordinates)\n",
    "        # get added target nodes\n",
    "        target_nodes = self.tsg_graph.nodes\n",
    "        # Copy the TSG graph to the main graph\n",
    "        self.graph = self.tsg_graph.copy()\n",
    "        \n",
    "        \n",
    "        # for each target nodes pair compute the path between them\n",
    "        for i, start_node in enumerate(target_nodes):\n",
    "            for j, goal_node in enumerate(target_nodes):\n",
    "                if j <= i:\n",
    "                    continue\n",
    "                # plan path from start_node to goal_node\n",
    "                path: List[Any] = self.path_planner.planPath([self.tsg_graph.nodes[start_node]['pos']], [self.tsg_graph.nodes[goal_node]['pos']], config)\n",
    "                # Relabel nodes so composition does not merge different nodes (different pos)\n",
    "                mapping = {node: (start_node if node == \"start\" else goal_node if node == \"goal\" else f'{start_node}_{goal_node}_{node}') for node in self.path_planner.graph.nodes}\n",
    "                self.path_planner.graph = nx.relabel_nodes(self.path_planner.graph, mapping, copy=False)\n",
    "                path = [mapping[node] for node in path]\n",
    "                # Merge self.graph and planner.graph\n",
    "                self.graph = nx.compose(self.path_planner.graph, self.graph)\n",
    "                # Update TSG graph\n",
    "                self.tsg_graph.add_edge(start_node, \n",
    "                                        goal_node, \n",
    "                                        distance=self._compute_path_length(self.graph, path), \n",
    "                                        path=path)\n",
    "                \n",
    "\n",
    "        \n",
    "        # Use the Traveling Salesman Problem approximation to find a roundtrip path\n",
    "        tsg_solution = np.asarray(nx.algorithms.approximation.traveling_salesman_problem(\n",
    "            self.tsg_graph,\n",
    "            weight='distance',\n",
    "            nodes=target_nodes,\n",
    "            cycle=True\n",
    "        ))\n",
    "\n",
    "        if len(tsg_solution) < 2:\n",
    "            return []\n",
    "\n",
    "        # Reconstruct the path from the TSG solution\n",
    "        roundtrip_path = [0]\n",
    "        for i in range(len(tsg_solution) - 1):\n",
    "            path = self.tsg_graph[tsg_solution[i]][tsg_solution[i + 1]]['path']\n",
    "            if tsg_solution[i] > tsg_solution[i + 1]:\n",
    "                path = list(reversed(path))\n",
    "            roundtrip_path.extend(path[1:])\n",
    "        \n",
    "        return roundtrip_path\n"
   ]
  },
  {
   "cell_type": "markdown",
   "id": "3",
   "metadata": {},
   "source": [
    "2. Evaluieren Sie ihr Konzept mit BasicPRM, LazyPRM, VisibilityPRM anhand von mindestens 6 Benchmarkumgebungen (3 * 2-DoF Punktroboter, 3 * Planarroboter). Die Szenen der Benchmarkaufgaben für die 2-DoF Punktroboter sollen unterschiedlich aussehen und unterschiedlich schwer sein. Die Szene der Benchmarkaufgaben für die Planarroboter können gleich sein und lediglich die Anzahl der Freiheitsgrade und Start, Ziel und Zwischenpunkte verändert werden.\n",
    "    1. Betrachten Sie z.B. Anzahl der Kollisionsberechnungen, Planungszeit, Roadmapgröße, Länge Lösungspfad und Stellen Sie die Ergebnisse graphisch dar und diskutieren Sie diese.\n",
    "    2. Für die 2-DoF Punkt- und Planarroboter stellen Sie sowohl die Vorgehensweise des Roundtrip-Planers (welche Bahnen werden wann geplant, was ist das finale Ergebnis) als auch das Endergebnis als Animation (s. IP-10-0-PlanarManipulator.ipnyb) dar."
   ]
  },
  {
   "cell_type": "code",
   "execution_count": null,
   "id": "4",
   "metadata": {},
   "outputs": [],
   "source": [
    "import matplotlib.pyplot as plt\n",
    "from IPBenchmark import Benchmark\n",
    "from shapely.geometry import Point, Polygon, LineString\n",
    "\n",
    "from IPEnvironment import CollisionChecker\n",
    "from IPVISBasicPRM import basicPRMVisualize\n",
    "import IPTestSuite as ts\n",
    "\n",
    "from IPVisibilityPRM import VisPRM"
   ]
  },
  {
   "cell_type": "code",
   "execution_count": null,
   "id": "5",
   "metadata": {},
   "outputs": [],
   "source": [
    "import traceback\n",
    "\n",
    "\n",
    "visConfig = dict()\n",
    "visConfig[\"ntry\"] = 100\n",
    "\n",
    "for benchmark in ts.benchList:\n",
    "    fig_local = plt.figure(figsize=(10,10))\n",
    "    ax = fig_local.add_subplot(1,1,1)\n",
    "    planner = VisPRM(benchmark.collisionChecker)\n",
    "    roadmap_planner = Roundtrip_path_planner(planner)\n",
    "    solution = roadmap_planner.planPath(benchmark.startList, benchmark.goalList, visConfig)\n",
    "    title = benchmark.name\n",
    "    if solution == []:\n",
    "        title += \" (No path found!)\"\n",
    "    title += \"\\n Assumed complexity level \" + str(benchmark.level)\n",
    "    ax.set_title(title)\n",
    "    print(\"solution:\", solution)\n",
    "    # TODO: Solution consists currently of a list of coordinates. For visualization, we need the planner to contain a graph and the solution to contain node names.\n",
    "    basicPRMVisualize(roadmap_planner, solution, ax=ax, nodeSize=50)\n"
   ]
  },
  {
   "cell_type": "code",
   "execution_count": null,
   "id": "6",
   "metadata": {},
   "outputs": [],
   "source": [
    "import traceback\n",
    "\n",
    "\n",
    "visConfig = dict()\n",
    "visConfig[\"ntry\"] = 100\n",
    "\n",
    "for benchmark in ts.benchList:\n",
    "    try:\n",
    "        fig_local = plt.figure(figsize=(10,10))\n",
    "        ax = fig_local.add_subplot(1,1,1)\n",
    "        planner = VisPRM(benchmark.collisionChecker)\n",
    "        roadmap_planner = Roundtrip_path_planner(planner)\n",
    "        solution = roadmap_planner.planPath(benchmark.startList, benchmark.goalList, visConfig)\n",
    "        title = benchmark.name\n",
    "        if solution == []:\n",
    "            title += \" (No path found!)\"\n",
    "        title += \"\\n Assumed complexity level \" + str(benchmark.level)\n",
    "        ax.set_title(title)\n",
    "        print(\"solution:\", solution)\n",
    "        # TODO: Solution consists currently of a list of coordinates. For visualization, we need the planner to contain a graph and the solution to contain node names.\n",
    "        basicPRMVisualize(roadmap_planner, solution, ax=ax, nodeSize=50)\n",
    "    except Exception as e:\n",
    "        print(\"ERROR in benchmark:\", benchmark.name)\n",
    "        print(\"Exception:\", e)\n",
    "        traceback.print_exc()"
   ]
  },
  {
   "cell_type": "code",
   "execution_count": null,
   "id": "7",
   "metadata": {},
   "outputs": [],
   "source": []
  },
  {
   "cell_type": "code",
   "execution_count": null,
   "id": "8",
   "metadata": {},
   "outputs": [],
   "source": []
  },
  {
   "cell_type": "code",
   "execution_count": null,
   "id": "9",
   "metadata": {},
   "outputs": [],
   "source": []
  },
  {
   "cell_type": "markdown",
   "id": "10",
   "metadata": {},
   "source": [
    "3. In einem weiteren Schritt entwickeln Sie eine spezielle Variante auf Basis des VisibilityPRM. Wie Sie wissen, ist dieser für Multi-Query Anfragen vorteilhaft nutzbar. Nutzen Sie dies für das Roundtrip-Konzept. Hier müssen Sie eventuell die Art wie Sie den Visibility-PRM aufrufen geschickt verändern. Führen Sie ebenfalls die Evaluation an den Benchmarkumgebungen durch und vergleichen Sie die Ergebnisse mit den Versionen aus 2.) "
   ]
  },
  {
   "cell_type": "code",
   "execution_count": null,
   "id": "11",
   "metadata": {},
   "outputs": [],
   "source": []
  },
  {
   "cell_type": "markdown",
   "id": "12",
   "metadata": {},
   "source": [
    "Erkläutern Sie bitte zudem im Endbericht (mind. 1 Seite):\n",
    "1. Wie funktioniert der Roundtrip-Planer, den Sie verwenden im Detail und warum haben Sie diesen gewählt.\n",
    "2. Wie können Sie die Bewegungsbahnen optimieren/Glätten? Erläutern SIe kurz eine mögliche Vorgehensweise."
   ]
  },
  {
   "cell_type": "markdown",
   "id": "13",
   "metadata": {},
   "source": [
    "Anmerkung: Bitte checken Sie das Notebook \"IP-X-0-Benchmarking-concept.ipnyb\" und \"IP-X-1-Automated_PlanerTest.ipnyb\" für Profiling und Statistiken."
   ]
  },
  {
   "cell_type": "markdown",
   "id": "14",
   "metadata": {},
   "source": []
  }
 ],
 "metadata": {
  "kernelspec": {
   "display_name": "intro-path-planning",
   "language": "python",
   "name": "python3"
  },
  "language_info": {
   "codemirror_mode": {
    "name": "ipython",
    "version": 3
   },
   "file_extension": ".py",
   "mimetype": "text/x-python",
   "name": "python",
   "nbconvert_exporter": "python",
   "pygments_lexer": "ipython3",
   "version": "3.13.2"
  }
 },
 "nbformat": 4,
 "nbformat_minor": 5
}
