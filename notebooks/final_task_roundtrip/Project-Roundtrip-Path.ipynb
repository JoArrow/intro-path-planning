{
 "cells": [
  {
   "cell_type": "markdown",
   "id": "f7020856",
   "metadata": {},
   "source": [
    "# Projektaufgabe - Roundtrip-Path\n",
    "\n",
    "Implementieren Sie einen Roundtrip-Path Planer\n",
    "\n",
    "1. Gegeben sind  \n",
    "    1. Startposition  \n",
    "    2. Mehrere Endpositionen\n",
    "    3. Das Interface des Roundtrip-Path-Planners soll sich *nicht* von den anderen Bahnplanern unterscheiden.\n",
    "    4. Der zu verwendete Bahnplanungsalgorithmus soll wählbar sein und geeignet übertragen werden können.\n",
    "    5. Ausgabe: Ein kollisionsfreier Pfad, der von der gegebenen Startposition alle Endpositionen genau einmal erreicht und wieder zur Startposition zurückführt. Dabei soll der Gesamtpfad möglichst kurz sein. Koordinieren Sie den Pfad geeignet (z.B. farblich), so dass sich erkennen lässt, was Start-Punkt, kollisionsfreier Zwischenpfad und Zielpunkte sind. \\\n",
    "    *Anmerkung: NetworkX hat prinzipiell die Möglichkeit auf einem gegebenen Graph dieses Problem zu lösen, sogar auf verschiedene Arten und Weisen. Sie können dies nutzen*"
   ]
  },
  {
   "cell_type": "code",
   "execution_count": 9,
   "id": "32aa2d5a",
   "metadata": {},
   "outputs": [],
   "source": [
    "import networkx as nx\n",
    "from IPPerfMonitor import IPPerfMonitor"
   ]
  },
  {
   "cell_type": "code",
   "execution_count": 10,
   "id": "643d85de",
   "metadata": {},
   "outputs": [],
   "source": [
    "class roundtrip_path_planner:\n",
    "\n",
    "    def __init__(self, path_planner):\n",
    "        assert hasattr(path_planner, \"planPath\"), \"path_planner must have a method called 'planPath'\"\n",
    "        self.path_planner = path_planner\n",
    "\n",
    "    \n",
    "    @IPPerfMonitor\n",
    "    def planPath(self, startList, goalList, config):\n",
    "        path = self.path_planner.planPath(startList, goalList, config)\n",
    "        #nx.traveling_salesman_problem()\n",
    "        return path\n"
   ]
  },
  {
   "cell_type": "markdown",
   "id": "58095011",
   "metadata": {},
   "source": [
    "2. Evaluieren Sie ihr Konzept mit BasicPRM, LazyPRM, VisibilityPRM anhand von mindestens 6 Benchmarkumgebungen (3 * 2-DoF Punktroboter, 3 * Planarroboter). Die Szenen der Benchmarkaufgaben für die 2-DoF Punktroboter sollen unterschiedlich aussehen und unterschiedlich schwer sein. Die Szene der Benchmarkaufgaben für die Planarroboter können gleich sein und lediglich die Anzahl der Freiheitsgrade und Start, Ziel und Zwischenpunkte verändert werden.\n",
    "    1. Betrachten Sie z.B. Anzahl der Kollisionsberechnungen, Planungszeit, Roadmapgröße, Länge Lösungspfad und Stellen Sie die Ergebnisse graphisch dar und diskutieren Sie diese.\n",
    "    2. Für die 2-DoF Punkt- und Planarroboter stellen Sie sowohl die Vorgehensweise des Roundtrip-Planers (welche Bahnen werden wann geplant, was ist das finale Ergebnis) als auch das Endergebnis als Animation (s. IP-10-0-PlanarManipulator.ipnyb) dar."
   ]
  },
  {
   "cell_type": "code",
   "execution_count": null,
   "id": "eb162f77",
   "metadata": {},
   "outputs": [
    {
     "ename": "ImportError",
     "evalue": "cannot import name 'basicPRMVisualize' from 'IPBasicPRM' (/home/amoehring99/git/intro-path-planning/notebooks/final_task_roundtrip/IPBasicPRM.py)",
     "output_type": "error",
     "traceback": [
      "\u001b[31m---------------------------------------------------------------------------\u001b[39m",
      "\u001b[31mImportError\u001b[39m                               Traceback (most recent call last)",
      "\u001b[36mCell\u001b[39m\u001b[36m \u001b[39m\u001b[32mIn[11]\u001b[39m\u001b[32m, line 1\u001b[39m\n\u001b[32m----> \u001b[39m\u001b[32m1\u001b[39m \u001b[38;5;28;01mfrom\u001b[39;00m\u001b[38;5;250m \u001b[39m\u001b[34;01mIPBasicPRM\u001b[39;00m\u001b[38;5;250m \u001b[39m\u001b[38;5;28;01mimport\u001b[39;00m basicPRMVisualize\n\u001b[32m      2\u001b[39m \u001b[38;5;28;01mimport\u001b[39;00m\u001b[38;5;250m \u001b[39m\u001b[34;01mmatplotlib\u001b[39;00m\u001b[34;01m.\u001b[39;00m\u001b[34;01mpyplot\u001b[39;00m\u001b[38;5;250m \u001b[39m\u001b[38;5;28;01mas\u001b[39;00m\u001b[38;5;250m \u001b[39m\u001b[34;01mplt\u001b[39;00m\n\u001b[32m      3\u001b[39m \u001b[38;5;28;01mfrom\u001b[39;00m\u001b[38;5;250m \u001b[39m\u001b[34;01mIPBenchmark\u001b[39;00m\u001b[38;5;250m \u001b[39m\u001b[38;5;28;01mimport\u001b[39;00m Benchmark\n",
      "\u001b[31mImportError\u001b[39m: cannot import name 'basicPRMVisualize' from 'IPBasicPRM' (/home/amoehring99/git/intro-path-planning/notebooks/final_task_roundtrip/IPBasicPRM.py)"
     ]
    }
   ],
   "source": [
    "import matplotlib.pyplot as plt\n",
    "from IPBenchmark import Benchmark\n",
    "from shapely.geometry import Point, Polygon, LineString\n",
    "\n",
    "from IPEnvironment import CollisionChecker"
   ]
  },
  {
   "cell_type": "code",
   "execution_count": null,
   "id": "d861cf62",
   "metadata": {},
   "outputs": [],
   "source": [
    "\n",
    "def basicPRMVisualize(graph, collChecker, solution, nodeSize=301.0, ax=None):\n",
    "    # get a list of posiations of all nodes by returning the content of the attribute 'pos'\n",
    "    pos = nx.get_node_attributes(graph,'pos')\n",
    "    \n",
    "    # draw graph (nodes colorized by degree)\n",
    "    nx.draw_networkx_nodes(graph, pos,  cmap=plt.cm.Blues, ax = ax, node_size=nodeSize)\n",
    "    nx.draw_networkx_edges(graph,pos,\n",
    "                                 ax = ax\n",
    "                                 )\n",
    "    \n",
    "   \n",
    "    \n",
    "\n",
    "    collChecker.drawObstacles(ax)\n",
    "    \n",
    "    \n",
    "    # draw nodes based on solution path\n",
    "    Gsp = nx.subgraph(graph,solution)\n",
    "    nx.draw_networkx_nodes(Gsp,pos,\n",
    "                            node_size=300,\n",
    "                             node_color='g',  ax = ax)\n",
    "        \n",
    "    # draw edges based on solution path\n",
    "    nx.draw_networkx_edges(Gsp,pos,alpha=0.8,edge_color='g',width=10,  ax = ax)\n",
    "        \n",
    "    # draw start and goal\n",
    "    if \"start\" in graph.nodes(): \n",
    "        nx.draw_networkx_nodes(graph,pos,nodelist=[\"start\"],\n",
    "                                   node_size=300,\n",
    "                                   node_color='#00dd00',  ax = ax)\n",
    "    if \"goal\" in graph.nodes():\n",
    "        nx.draw_networkx_nodes(graph,pos,nodelist=[\"goal\"],\n",
    "                                   node_size=300,\n",
    "                                   node_color='#DD0000', ax = ax)\n",
    "\n"
   ]
  },
  {
   "cell_type": "code",
   "execution_count": null,
   "id": "b54e9c1b",
   "metadata": {},
   "outputs": [],
   "source": [
    "benchList = list()\n",
    "\n",
    "trapField = dict()\n",
    "trapField[\"obs1\"] =   LineString([(6, 18), (6, 8), (16, 8), (16,18)]).buffer(1.0)\n",
    "description = \"Following the direct connection from goal to start would lead the algorithm into a trap.\"\n",
    "benchList.append(Benchmark(\"Trap\", CollisionChecker(trapField), [[10,15]], [[10,1]], description, 2))\n",
    "\n",
    "bottleNeckField = dict()\n",
    "bottleNeckField[\"obs1\"] = LineString([(0, 13), (11, 13)]).buffer(.5)\n",
    "bottleNeckField[\"obs2\"] = LineString([(13, 13), (23,13)]).buffer(.5)\n",
    "description = \"Planer has to find a narrow passage.\"\n",
    "benchList.append(Benchmark(\"Bottleneck\", CollisionChecker(bottleNeckField), [[4,15]], [[18,1]], description, 2))\n",
    "\n",
    "\n",
    "fatBottleNeckField = dict()\n",
    "fatBottleNeckField[\"obs1\"] = Polygon([(0, 8), (11, 8),(11, 15), (0, 15)]).buffer(.5)\n",
    "fatBottleNeckField[\"obs2\"] = Polygon([(13, 8), (24, 8),(24, 15), (13, 15)]).buffer(.5)\n",
    "description = \"Planer has to find a narrow passage with a significant extend.\"\n",
    "benchList.append(Benchmark(\"Fat bottleneck\", CollisionChecker(fatBottleNeckField), [[4,21]], [[18,1]], description, 2))"
   ]
  },
  {
   "cell_type": "code",
   "execution_count": null,
   "id": "47925bae",
   "metadata": {},
   "outputs": [],
   "source": [
    "for benchmark in benchList:\n",
    "    try:\n",
    "        print (\"Planning: \", benchmark.name)\n",
    "        collChecker = benchmark.collisionChecker\n",
    "        G = nx.Graph()\n",
    "        radius = 10.00\n",
    "        numNodes = 200\n",
    "        learnRoadmapNearestNeighbour(G, dim, radius, numNodes, collChecker)\n",
    "        solution = findPath(G,benchmark.startList[0],benchmark.goalList[0], collChecker)\n",
    "        print(solution, len(solution))\n",
    "        print(len(G.nodes()))\n",
    "        \n",
    "    except Exception as e:\n",
    "        solution = []\n",
    "        print (\"Failed\", e)\n",
    "    # draw the planning\n",
    "    fig = plt.figure(figsize=(5,5))\n",
    "    ax = fig.add_subplot(1,1,1)\n",
    "    limits=collChecker.getEnvironmentLimits()\n",
    "    ax.set_xlim(limits[0])\n",
    "    ax.set_ylim(limits[1])\n",
    "    ax.set_title(benchmark.name)\n",
    "    basicPRMVisualize(G,collChecker,solution,nodeSize=80,ax=ax)\n",
    "    plt.show()"
   ]
  },
  {
   "cell_type": "markdown",
   "id": "1ef3755c",
   "metadata": {},
   "source": [
    "3. In einem weiteren Schritt entwickeln Sie eine spezielle Variante auf Basis des VisibilityPRM. Wie Sie wissen, ist dieser für Multi-Query Anfragen vorteilhaft nutzbar. Nutzen Sie dies für das Roundtrip-Konzept. Hier müssen Sie eventuell die Art wie Sie den Visibility-PRM aufrufen geschickt verändern. Führen Sie ebenfalls die Evaluation an den Benchmarkumgebungen durch und vergleichen Sie die Ergebnisse mit den Versionen aus 2.) "
   ]
  },
  {
   "cell_type": "code",
   "execution_count": null,
   "id": "60b28589",
   "metadata": {},
   "outputs": [],
   "source": []
  },
  {
   "cell_type": "markdown",
   "id": "524b3d0f",
   "metadata": {},
   "source": [
    "Erkläutern Sie bitte zudem im Endbericht (mind. 1 Seite):\n",
    "1. Wie funktioniert der Roundtrip-Planer, den Sie verwenden im Detail und warum haben Sie diesen gewählt.\n",
    "2. Wie können Sie die Bewegungsbahnen optimieren/Glätten? Erläutern SIe kurz eine mögliche Vorgehensweise."
   ]
  },
  {
   "cell_type": "markdown",
   "id": "9d34a081",
   "metadata": {},
   "source": [
    "Anmerkung: Bitte checken Sie das Notebook \"IP-X-0-Benchmarking-concept.ipnyb\" und \"IP-X-1-Automated_PlanerTest.ipnyb\" für Profiling und Statistiken."
   ]
  },
  {
   "cell_type": "markdown",
   "id": "cb2ed656",
   "metadata": {},
   "source": []
  }
 ],
 "metadata": {
  "kernelspec": {
   "display_name": "industrielle-roboter-env",
   "language": "python",
   "name": "python3"
  },
  "language_info": {
   "codemirror_mode": {
    "name": "ipython",
    "version": 3
   },
   "file_extension": ".py",
   "mimetype": "text/x-python",
   "name": "python",
   "nbconvert_exporter": "python",
   "pygments_lexer": "ipython3",
   "version": "3.13.2"
  }
 },
 "nbformat": 4,
 "nbformat_minor": 5
}
