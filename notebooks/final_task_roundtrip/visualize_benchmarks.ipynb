{
 "cells": [
  {
   "cell_type": "code",
   "execution_count": null,
   "id": "0",
   "metadata": {},
   "outputs": [],
   "source": [
    "def planarRobotVisualize(kin_chain, ax):\n",
    "    joint_positions = kin_chain.get_transforms()\n",
    "    for i in range(1, len(joint_positions)):\n",
    "        xs = [joint_positions[i-1][0], joint_positions[i][0]]\n",
    "        ys = [joint_positions[i-1][1], joint_positions[i][1]]\n",
    "        ax.plot(xs, ys, color='g')"
   ]
  },
  {
   "cell_type": "code",
   "execution_count": null,
   "id": "1",
   "metadata": {},
   "outputs": [],
   "source": [
    "\n",
    "from typing import List\n",
    "import IPTestSuite as ts\n",
    "import matplotlib.pyplot as plt\n",
    "from IPBenchmark import Benchmark \n",
    "from IPEnvironment import CollisionChecker\n",
    "from IPEnvironmentKin import KinChainCollisionChecker\n",
    "\"\"\"\n",
    "benchList: List[Benchmark] = ts.benchList\n",
    "\n",
    "num = -3\n",
    "\n",
    "print(benchList[num].name)\n",
    "\n",
    "environment: KinChainCollisionChecker = benchList[num].collisionChecker\n",
    "startList = benchList[num].startList\n",
    "goalList = benchList[num].goalList\n",
    "description = benchList[num].description\n",
    "r = environment.kin_chain\n",
    "\n",
    "#print(environment.scene)\n",
    "\n",
    "fig_local = plt.figure(figsize=(14, 7))\n",
    "## right figure for robot start position\n",
    "ax1 = fig_local.add_subplot(1, 2, 1)\n",
    "ax1.set_xlim((-3, 3))\n",
    "ax1.set_ylim((-3, 3))\n",
    "environment.drawObstacles(ax1, inWorkspace=True)\n",
    "start_joint_pos = startList[0]\n",
    "r.move(start_joint_pos)\n",
    "planarRobotVisualize(r, ax1)\n",
    "## left figure robot goal position\n",
    "ax2 = fig_local.add_subplot(1, 2, 2)\n",
    "ax2.set_xlim((-3, 3))\n",
    "ax2.set_ylim((-3, 3))\n",
    "environment.drawObstacles(ax2, inWorkspace=True)\n",
    "for goal in goalList:\n",
    "    end_joint_pos = goal\n",
    "    r.move(end_joint_pos)\n",
    "    planarRobotVisualize(r, ax2)\n",
    "\"\"\""
   ]
  },
  {
   "cell_type": "code",
   "execution_count": null,
   "id": "2",
   "metadata": {},
   "outputs": [],
   "source": [
    "benchList: List[Benchmark] = ts.benchList\n",
    "\n",
    "for bench in benchList:\n",
    "    print(bench.name)\n",
    "    environment = bench.collisionChecker\n",
    "    startList = bench.startList\n",
    "    goalList = bench.goalList\n",
    "    description = bench.description\n",
    "    \n",
    "    fig_local = plt.figure(figsize=(10,10))\n",
    "    ax = fig_local.add_subplot(1,1,1)\n",
    "    ax.set_xlim((0, 22))\n",
    "    ax.set_ylim((0, 22))\n",
    "    print(startList)\n",
    "\n",
    "    environment.drawObstacles(ax)\n",
    "    for start in startList:\n",
    "        ax.plot(start[0], start[1], 'bo', label='Start' if start == startList[0] else \"\")\n",
    "    for goal in goalList:\n",
    "        ax.plot(goal[0], goal[1], 'rx', label='Goal' if goal == goalList[0] else \"\")"
   ]
  },
  {
   "cell_type": "code",
   "execution_count": null,
   "id": "3",
   "metadata": {},
   "outputs": [],
   "source": []
  }
 ],
 "metadata": {
  "kernelspec": {
   "display_name": "intro-path-planning",
   "language": "python",
   "name": "python3"
  },
  "language_info": {
   "codemirror_mode": {
    "name": "ipython",
    "version": 3
   },
   "file_extension": ".py",
   "mimetype": "text/x-python",
   "name": "python",
   "nbconvert_exporter": "python",
   "pygments_lexer": "ipython3",
   "version": "3.13.2"
  }
 },
 "nbformat": 4,
 "nbformat_minor": 5
}
