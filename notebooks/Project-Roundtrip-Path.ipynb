{
 "cells": [
  {
   "cell_type": "markdown",
   "id": "f7020856",
   "metadata": {},
   "source": [
    "# Projektaufgabe - Roundtrip-Path\n",
    "\n",
    "Implementieren Sie einen Roundtrip-Path Planer\n",
    "\n",
    "1. Gegeben sind  \n",
    "    1. Startposition  \n",
    "    2. Mehrere Endpositionen\n",
    "    3. Das Interface des Roundtrip-Path-Planners soll sich *nicht* von den anderen Bahnplanern unterscheiden.\n",
    "    4. Der zu verwendete Bahnplanungsalgorithmus soll wählbar sein und geeignet übertragen werden können.\n",
    "    5. Ausgabe: Ein kollisionsfreier Pfad, der von der gegebenen Startposition alle Endpositionen genau einmal erreicht und wieder zur Startposition zurückführt. Dabei soll der Gesamtpfad möglichst kurz sein. Koordinieren Sie den Pfad geeignet (z.B. farblich), so dass sich erkennen lässt, was Start-Punkt, kollisionsfreier Zwischenpfad und Zielpunkte sind. \\\n",
    "    *Anmerkung: NetworkX hat prinzipiell die Möglichkeit auf einem gegebenen Fraph dieses Problem zu lösen, sogar auf verschiedene Arten und Weisen. Sie können dies nutzen*"
   ]
  },
  {
   "cell_type": "code",
   "execution_count": null,
   "id": "32aa2d5a",
   "metadata": {},
   "outputs": [],
   "source": [
    "from IPPerfMonitor import IPPerfMonitor"
   ]
  },
  {
   "cell_type": "code",
   "execution_count": null,
   "id": "643d85de",
   "metadata": {},
   "outputs": [],
   "source": [
    "class roundtrip_path_planner:\n",
    "\n",
    "    def __init__(self, start_position, end_positions, path_planner):\n",
    "        assert hasattr(path_planner, \"_buildRoadmap\"), \"path_planner must have a method called '_buildRoadmap'\"\n",
    "        assert hasattr(path_planner, \"planPath\"), \"path_planner must have a method called 'planPath'\"\n",
    "\n",
    "        self.start_position = start_position\n",
    "        self.end_positions = end_positions\n",
    "        self.path_planner = path_planner\n",
    "\n",
    "    @IPPerfMonitor\n",
    "    def _buildRoadmap(self, roadmap_args):\n",
    "        self.path_planner._buildRoadmap(roadmap_args)\n",
    "    \n",
    "    @IPPerfMonitor\n",
    "    def planPath(self, startList, goalList, config):\n",
    "        raise NotImplementedError(\"The roundtrip path planning method must be implemented.\")\n",
    "\n"
   ]
  },
  {
   "cell_type": "markdown",
   "id": "58095011",
   "metadata": {},
   "source": [
    "2. Evaluieren Sie ihr Konzept mit BasicPRM, LazyPRM, VisibilityPRM anhand von mindestens 6 Benchmarkumgebungen (3 * 2-DoF Punktroboter, 3 * Planarroboter). Die Szenen der Benchmarkaufgaben für die 2-DoF Punktroboter sollen unterschiedlich aussehen und unterschiedlich schwer sein. Die Szene der Benchmarkaufgaben für die Planarroboter können gleich sein und lediglich die Anzahl der Freiheitsgrade und Start, Ziel und Zwischenounkte verändert werden.\n",
    "    1. Betrachten Sie z.B. Anzahl der Kollisionsberechnungen, Planungszeit, Roadmapgröße, Länge Lösungspfad und Stellen Sie die Ergebnisse graphisch dar und diskutieren Sie diese.\n",
    "    2. Für die 2-DoF Punkt- und Planarroboter stellen Sie sowohl die Vorgehensweise des Roundtrip-Planers (welche Bahnen werden wann geplant, was ist das finale Ergebnis) als auch das Endergebnis als Animation (s. IP-10-0-PlanarManipulator.ipnyb) dar."
   ]
  },
  {
   "cell_type": "code",
   "execution_count": null,
   "id": "2f29a15d",
   "metadata": {},
   "outputs": [],
   "source": [
    "from IPLazyPRM import LazyPRM\n",
    "from IPVISLazyPRM import lazyPRMVisualize\n",
    "import matplotlib.pylab as plt"
   ]
  },
  {
   "cell_type": "code",
   "execution_count": 1,
   "id": "8d8a4d42",
   "metadata": {},
   "outputs": [],
   "source": [
    "class Benchmark(object):\n",
    "        \n",
    "    def __init__(self, name, collisionChecker, startList, goalList, description, level ):\n",
    "        \"\"\"Benchmark is used to define tests cases\n",
    "        \n",
    "        :name: Name of benchmark\n",
    "        :environment: collision checker\n",
    "        :startList: list of possible start configurations\n",
    "        :goalList: list of possible goal configurations\n",
    "        :description: textual description of the benchmark\n",
    "        :level (int): 1 -\"easy\",2 - \"normal\",3 - \"hard\", 4 - \"insane\" (Assumed level)\n",
    "        \"\"\"\n",
    "        self.name = name\n",
    "        self.collisionChecker = collisionChecker # environment (collision checker) \n",
    "        self.startList = startList # in limits, collision-free?\n",
    "        self.goalList = goalList # in limits, collision-free?\n",
    "        self.description = description\n",
    "        self.level = level # in [1,2,3,4]"
   ]
  },
  {
   "cell_type": "code",
   "execution_count": null,
   "id": "1dbdecbe",
   "metadata": {},
   "outputs": [],
   "source": []
  },
  {
   "cell_type": "code",
   "execution_count": null,
   "id": "7083fdc8",
   "metadata": {},
   "outputs": [],
   "source": []
  },
  {
   "cell_type": "markdown",
   "id": "1ef3755c",
   "metadata": {},
   "source": [
    "3. In einem weiteren Schritt entwickeln Sie eine spezielle Variante auf Basis des VisibilityPRM. Wie Sie wissen, ist dieser für Multi-Query Anfragen vorteilhaft nutzbar. Nutzen Sie dies für das Roundtrup-Konzept. Hier müssen Sie eventuell die Artwie Sie den Visibility-PRM aufrufen geschickt verändern. Führen Sie ebenfalls die Evaluation an den Benchmarkumgebungen durch und vergleichen Sie die Ergebnisse mit den Versionen aus 2.) "
   ]
  },
  {
   "cell_type": "code",
   "execution_count": null,
   "id": "60b28589",
   "metadata": {},
   "outputs": [],
   "source": []
  },
  {
   "cell_type": "markdown",
   "id": "524b3d0f",
   "metadata": {},
   "source": [
    "Erkläutern Sie bitte zudem um Endbericht (mind. 1 Seite):\n",
    "1. Wie funktioniert der Roundtrip-Planer, den Sie verwenden im Detail und warum haben Sie diesen gewählt.\n",
    "2. Wie können Sie die Bewegungsbahnen optimieren/Glätten? Erläutern SIe kurz eine mögliche Vorgehensweise."
   ]
  },
  {
   "cell_type": "markdown",
   "id": "9d34a081",
   "metadata": {},
   "source": [
    "Anmerkung: Bitte checken Sie das Notebook \"IP-X-0-Benchmarking-concept.ipnyb\" und \"IP-X-1-Automated_PlanerTest.ipnyb\" für Profiling und Statistiken."
   ]
  },
  {
   "cell_type": "markdown",
   "id": "cb2ed656",
   "metadata": {},
   "source": []
  }
 ],
 "metadata": {
  "kernelspec": {
   "display_name": "intro-path-planning",
   "language": "python",
   "name": "python3"
  },
  "language_info": {
   "codemirror_mode": {
    "name": "ipython",
    "version": 3
   },
   "file_extension": ".py",
   "mimetype": "text/x-python",
   "name": "python",
   "nbconvert_exporter": "python",
   "pygments_lexer": "ipython3",
   "version": "3.13.2"
  }
 },
 "nbformat": 4,
 "nbformat_minor": 5
}
